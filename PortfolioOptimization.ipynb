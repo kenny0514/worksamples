{
 "cells": [
  {
   "cell_type": "code",
   "execution_count": 2,
   "id": "2e204411",
   "metadata": {},
   "outputs": [],
   "source": [
    "# Public\n",
    "import pandas as pd\n",
    "import numpy as np\n",
    "import os, ast\n",
    "import matplotlib.pyplot as plt\n",
    "import pandas as pd\n",
    "import warnings\n",
    "\n",
    "warnings.filterwarnings('ignore', message='All-NaN slice encountered')\n",
    "\n",
    "# Private\n",
    "import signals\n",
    "from functions import *\n",
    "import cvxpy as cvx"
   ]
  },
  {
   "attachments": {},
   "cell_type": "markdown",
   "id": "9f87c48d",
   "metadata": {},
   "source": [
    "## Load Data"
   ]
  },
  {
   "cell_type": "code",
   "execution_count": 9,
   "id": "7e0c7d9a",
   "metadata": {},
   "outputs": [],
   "source": [
    "##########################################################################################\n",
    "\n",
    "### 이번에 바뀐것\n",
    "import PortfolioAnalysis\n",
    "\n",
    "strat_file = \"/Users/kennypark/Desktop/quant_trading/Analysis/results/240115_vanilla_select_handpicked.csv\"\n",
    "ohlcv_path =  \"/Users/kennypark/Desktop/quant_trading/Analysis/data/test_data\"\n",
    "\n",
    "# 요로케 써도되고\n",
    "port1 = PortfolioAnalysis.Portfolio(strat_file, ohlcv_path)\n",
    "\n",
    "# 요로케 써도됨. In case you want to make changes to df_strat, such as sorting out longs\n",
    "df_strat = pd.read_csv(strat_file,index_col=0)\n",
    "port1 = PortfolioAnalysis.Portfolio(df_strat, ohlcv_path) \n",
    "\n",
    "# If you want to access daily_lrets_df\n",
    "port1_lrets_df = port1.get_daily_lrets(start_date = \"2023-12-20\", end_date=\"2024-01-10\")\n",
    "\n",
    "##########################################################################################"
   ]
  },
  {
   "cell_type": "code",
   "execution_count": null,
   "id": "2bdd68f3",
   "metadata": {},
   "outputs": [],
   "source": []
  },
  {
   "cell_type": "code",
   "execution_count": 3,
   "id": "59b9ada3",
   "metadata": {},
   "outputs": [],
   "source": [
    "### Loads list of strategies we'll use ###\n",
    "df = pd.read_csv(\"selected_signals_231229.csv\",index_col=0)"
   ]
  },
  {
   "cell_type": "code",
   "execution_count": 27,
   "id": "cb974d4c",
   "metadata": {},
   "outputs": [
    {
     "data": {
      "text/plain": [
       "strat_name            1000SHIBUSDT_15m_long_-5_[3, 0, 5]_[Asia/Hong_...\n",
       "file                                 1000SHIBUSDT_15m_210829_231029.csv\n",
       "symbol                                                     1000SHIBUSDT\n",
       "timeframe                                                           15m\n",
       "strategy                                                           blgr\n",
       "threshold                                                            -5\n",
       "cross_dir                                                          down\n",
       "side                                                               long\n",
       "barrier                                                       [3, 0, 5]\n",
       "leverage                                                        1.85354\n",
       "macro_tf                                                            all\n",
       "macro_threshold                                                     NaN\n",
       "macro_direction                                                     NaN\n",
       "timezone                                                 Asia/Hong_Kong\n",
       "dayofweek                                                           all\n",
       "tradingsession                                               nontrading\n",
       "min_sharpe                                                     2.477981\n",
       "overall_sharpe                                                 3.447326\n",
       "sub_sharpe0                                                    3.062972\n",
       "sub_sharpe1                                                    4.267422\n",
       "sub_sharpe2                                                    4.973863\n",
       "sub_sharpe3                                                    2.477981\n",
       "latest_sharpe                                                  3.689729\n",
       "exp_lret_per_trade                                             0.015969\n",
       "exp_lret_per_24h                                               0.346391\n",
       "max_single_loss                                               -0.050389\n",
       "mdd                                                           -0.098477\n",
       "count                                                               101\n",
       "duration                                                      66.386139\n",
       "strat_num                                                           460\n",
       "strat_name            1000SHIBUSDT_15m_long_-4_[3, 0, 5]_[UTC,weekda...\n",
       "file                                 1000SHIBUSDT_15m_210829_231029.csv\n",
       "symbol                                                     1000SHIBUSDT\n",
       "timeframe                                                           15m\n",
       "strategy                                                           blgr\n",
       "threshold                                                            -4\n",
       "cross_dir                                                          down\n",
       "side                                                               long\n",
       "barrier                                                       [3, 0, 5]\n",
       "leverage                                                       1.244762\n",
       "macro_tf                                                             4h\n",
       "macro_threshold                                                    -2.0\n",
       "macro_direction                                                   below\n",
       "timezone                                                            UTC\n",
       "dayofweek                                                       weekday\n",
       "tradingsession                                                      all\n",
       "min_sharpe                                                     2.349775\n",
       "overall_sharpe                                                 2.836018\n",
       "sub_sharpe0                                                     2.83989\n",
       "sub_sharpe1                                                    2.349775\n",
       "sub_sharpe2                                                    3.757717\n",
       "sub_sharpe3                                                    3.544099\n",
       "latest_sharpe                                                  5.169767\n",
       "exp_lret_per_trade                                             0.009606\n",
       "exp_lret_per_24h                                               0.205322\n",
       "max_single_loss                                               -0.079708\n",
       "mdd                                                           -0.099983\n",
       "count                                                               116\n",
       "duration                                                       67.37069\n",
       "strat_num                                                           499\n",
       "dtype: object"
      ]
     },
     "execution_count": 27,
     "metadata": {},
     "output_type": "execute_result"
    }
   ],
   "source": [
    "df1 = df.loc[460]\n",
    "df2 = df.loc[499]\n",
    "\n",
    "combined_df = pd.concat([df1, df2], axis=0)\n",
    "\n",
    "combined_df"
   ]
  },
  {
   "cell_type": "code",
   "execution_count": 67,
   "id": "ee26e67e",
   "metadata": {},
   "outputs": [
    {
     "name": "stdout",
     "output_type": "stream",
     "text": [
      "-0.09563378489331446\n",
      "0.23536327865267964\n",
      "0.07033650402909127\n",
      "0.06747270817351675\n"
     ]
    }
   ],
   "source": [
    "lrets1 = get_lrets(df.loc[158], \"data/2yrs\")\n",
    "lrets2= get_lrets(df.loc[921], \"data/2yrs\")\n",
    "\n",
    "daily_lrets1 = lrets1.resample('D').sum()\n",
    "daily_lrets1 = daily_lrets1[daily_lrets1 != 0]\n",
    "n1 = 1#len(daily_lrets1)/2 \n",
    "\n",
    "daily_lrets2 = lrets2.resample('D').sum()\n",
    "daily_lrets2 = daily_lrets2[daily_lrets2 != 0]\n",
    "n2 = 1#len(daily_lrets2)/2\n",
    "\n",
    "mean_daily_lrets1 = daily_lrets1.mean()\n",
    "mean_daily_lrets2 = daily_lrets2.mean()\n",
    "\n",
    "std_daily_lrets1 = daily_lrets1.std()\n",
    "std_lrets2 = daily_lrets2.std()\n",
    "\n",
    "sharpe1 = mean_daily_lrets1/(std_daily_lrets1/np.sqrt(n1))\n",
    "sharpe2 = mean_daily_lrets2/(std_lrets2/np.sqrt(n2))\n",
    "\n",
    "\n",
    "cov = daily_lrets1.cov(daily_lrets2)\n",
    "\n",
    "w1, w2 = 0.5, 0.5\n",
    "combined_mean = (w1*mean_daily_lrets1+w2*mean_daily_lrets2)\n",
    "combined_var = (w1*std_daily_lrets1)**2 + (w2*std_lrets2)**2 + 2*(w1*std_daily_lrets1)*(w2*std_lrets2)*cov\n",
    "combined_n = 1#n1+n2\n",
    "combined_sharpe = combined_mean/((combined_var**0.5)/np.sqrt(combined_n))\n",
    "\n",
    "print(sharpe1)\n",
    "print(sharpe2)\n",
    "print(combined_sharpe)\n",
    "\n",
    "\n",
    "# Calculated \n",
    "combined_lrets = pd.concat([lrets1, lrets2])\n",
    "combined_daily_lrets =combined_lrets.resample('D').sum()\n",
    "combined_daily_lrets = combined_daily_lrets[combined_daily_lrets!=0]\n",
    "combined_n_manual = 1 #len(combined_daily_lrets)\n",
    "combined_sharpe_manual = (combined_daily_lrets.mean()/(combined_daily_lrets.std()/np.sqrt(combined_n_manual)))\n",
    "\n",
    "print(combined_sharpe_manual)\n"
   ]
  },
  {
   "cell_type": "code",
   "execution_count": 68,
   "id": "c67b8069",
   "metadata": {},
   "outputs": [
    {
     "data": {
      "text/plain": [
       "0.0014722153551944134"
      ]
     },
     "execution_count": 68,
     "metadata": {},
     "output_type": "execute_result"
    }
   ],
   "source": [
    "0.5*mean_daily_lrets1+mean_daily_lrets2*0.5"
   ]
  },
  {
   "cell_type": "code",
   "execution_count": 69,
   "id": "63e49d46",
   "metadata": {},
   "outputs": [
    {
     "data": {
      "text/plain": [
       "0.0019891818033642263"
      ]
     },
     "execution_count": 69,
     "metadata": {},
     "output_type": "execute_result"
    }
   ],
   "source": [
    "combined_daily_lrets.mean()"
   ]
  },
  {
   "cell_type": "code",
   "execution_count": 37,
   "id": "e28ad603",
   "metadata": {},
   "outputs": [
    {
     "name": "stdout",
     "output_type": "stream",
     "text": [
      "-0.6566344666172086\n",
      "1.7525169006175036\n"
     ]
    }
   ],
   "source": [
    "print(calc_sharpe(daily_lrets1))\n",
    "print(calc_sharpe(daily_lrets2))"
   ]
  },
  {
   "cell_type": "code",
   "execution_count": 44,
   "id": "b9388b4c",
   "metadata": {},
   "outputs": [],
   "source": [
    "# Trade and returns processing function\n",
    "def process_data(data_dir, start_date, timezone):\n",
    "    end_date = os.listdir(data_dir)[0].replace(\".\", \"_\").split(\"_\")[3]\n",
    "    full_date_range = pd.date_range(start=pd.to_datetime(start_date).tz_localize(timezone), \n",
    "                                    end=pd.to_datetime(end_date, format='%y%m%d').tz_localize(timezone), \n",
    "                                    freq='D', tz=timezone)\n",
    "    daily_lrets_df = pd.DataFrame(index=full_date_range)\n",
    "    trades_df = pd.DataFrame()\n",
    "\n",
    "    for index, row in df.iterrows():\n",
    "        df_result = get_trade_history(df.loc[index], data_dir)\n",
    "        df_result['strat_num'] = row['strat_num']\n",
    "        df_result['exp_lret_per_24h'] = row['exp_lret_per_24h']\n",
    "\n",
    "        lrets = df_result.lrets\n",
    "        lrets.index = df_result.entry_time\n",
    "        lrets.index = lrets.index.tz_convert(timezone)\n",
    "        daily_lrets = lrets.resample('D').sum()\n",
    "        daily_lrets_df[index] = daily_lrets\n",
    "\n",
    "        trades_df = pd.concat([trades_df, df_result], ignore_index=True)\n",
    "\n",
    "    daily_rets_df = np.exp(daily_lrets_df) - 1\n",
    "    trades_df = trades_df[trades_df['entry_time'] >= pd.to_datetime(start_date).tz_localize(timezone)]\n",
    "    trades_df = trades_df.sort_values(by=\"entry_time_actual\")\n",
    "\n",
    "    return daily_rets_df, trades_df"
   ]
  },
  {
   "attachments": {},
   "cell_type": "markdown",
   "id": "ba84a57f",
   "metadata": {},
   "source": [
    "### Run the below only once"
   ]
  },
  {
   "cell_type": "code",
   "execution_count": 45,
   "id": "ff11910b",
   "metadata": {},
   "outputs": [],
   "source": [
    "timezone = 'Asia/Seoul'\n",
    "\n",
    "# # Process Train Data\n",
    "data_train = 'data/2yrs'\n",
    "start_date_train = \"2022-10-01\"\n",
    "daily_rets_train, trades_train = process_data(data_train, start_date_train, timezone)\n",
    "\n",
    "# Process Test Data\n",
    "data_test = 'data/test_data'\n",
    "start_date_test = \"2023-10-01\"\n",
    "daily_rets_test, trades_test = process_data(data_test, start_date_test, timezone)"
   ]
  },
  {
   "attachments": {},
   "cell_type": "markdown",
   "id": "2f2ae4ef",
   "metadata": {},
   "source": [
    "### Utilities"
   ]
  },
  {
   "cell_type": "code",
   "execution_count": 46,
   "id": "40f1cbe0",
   "metadata": {},
   "outputs": [],
   "source": [
    "#########################################################################\n",
    "def calc_pos_size(risk_perc, ent_price, sl_price, risked_tot_balance, leverage, fee_percent):\n",
    "    potential_loss = abs(ent_price - sl_price)\n",
    "    position_size0 = (risked_tot_balance * risk_perc / 100) / potential_loss \n",
    "    position_size = position_size0 / ( leverage * ( 1 - fee_percent) )\n",
    "    return position_size\n",
    "#########################################################################\n",
    "\n",
    "#########################################################################\n",
    "def solve_QP(q, C, k, min_weights):\n",
    "    # dimension\n",
    "    n = len(q)\n",
    "    # Opt Var\n",
    "    x = cvx.Variable(n)\n",
    "    # Obj\n",
    "    cost = q.T @ x + cvx.quad_form(x, -k * C)\n",
    "    obj = cvx.Maximize(cost)\n",
    "    # Const\n",
    "    const = [cvx.sum(x) == 1, x >= min_weights]\n",
    "    # QP\n",
    "    prob = cvx.Problem(obj, const)\n",
    "    try:\n",
    "        prob.solve()\n",
    "        if prob.status == 'optimal':\n",
    "            return x.value, prob.value\n",
    "        else:\n",
    "            raise ValueError(\"Optimization failed\")\n",
    "    except Exception as e:\n",
    "        raise ValueError(f\"Optimization failed: {e}\")\n",
    "#########################################################################\n",
    "\n",
    "#########################################################################\n",
    "def optimize_portfolio_cvar(daily_rets_df, min_weight_threshhold, alpha=0.95):\n",
    "\n",
    "    n_assets = daily_rets_df.values.shape[1]\n",
    "    cost = -daily_rets_df.values \n",
    "    \n",
    "    # Portfolio weights\n",
    "    weights = cp.Variable(n_assets)\n",
    "\n",
    "    # VaR (value-at-risk) as an auxiliary variable\n",
    "    VaR = cp.Variable()\n",
    "\n",
    "    excess_losses = cp.Variable(cost.shape[0])\n",
    "\n",
    "    # Portfolio loss for each day\n",
    "    portfolio_cost = cost @ weights\n",
    "\n",
    "    # Constraints;\n",
    "    constraints = [\n",
    "        cp.sum(weights) == 1,\n",
    "        weights >= min_weight_threshhold,\n",
    "        excess_losses >= 0,\n",
    "        excess_losses >= portfolio_cost - VaR, \n",
    "    ]\n",
    "\n",
    "    # Obj; minimizing the CVaR (VaR + average excess losses)\n",
    "    num_days = cost.shape[0]\n",
    "    CVaR = VaR + cp.sum(excess_losses) / (num_days * (1 - alpha))\n",
    "\n",
    "    # QP\n",
    "    objective = cp.Minimize(CVaR)\n",
    "    prob = cp.Problem(objective, constraints)\n",
    "    prob.solve(solver=cvx.ECOS)\n",
    "\n",
    "    # Optimal weights\n",
    "    return weights.value\n",
    "#########################################################################\n",
    "    \n",
    "#########################################################################\n",
    "def monthly_eval(portfolio_lrets):\n",
    "    monthly_lrets = portfolio_lrets.groupby([portfolio_lrets.index.year, portfolio_lrets.index.month]).sum()\n",
    "    monthly_rets = np.exp(monthly_lrets)-1\n",
    "\n",
    "    # Monthly Sharpe\n",
    "    monthly_sharpe_ratios = portfolio_lrets.groupby([portfolio_lrets.index.year, portfolio_lrets.index.month]).apply(calc_sharpe)\n",
    "\n",
    "    # Monthly MDD\n",
    "    monthly_mdd = abs(portfolio_lrets.groupby([portfolio_lrets.index.year, portfolio_lrets.index.month]).apply(get_mdd))\n",
    "\n",
    "    # Monthly Calmar (=Lret/MDD)\n",
    "    monthly_calm = monthly_lrets/monthly_mdd\n",
    "\n",
    "    return {\n",
    "        \"Monthly Total Return\": monthly_rets,\n",
    "        \"Monthly Sharpe Ratios\": monthly_sharpe_ratios,\n",
    "        \"Monthly Max Drawdown\": monthly_mdd,\n",
    "        \"Monthly Calmar Ratio\": monthly_calm\n",
    "    }\n",
    "#########################################################################\n",
    "\n",
    "#########################################################################\n",
    "def print_eval_results(results):\n",
    "    for metric, data in results.items():\n",
    "        print(f\"\\n{metric}:\\n{'-' * len(metric)}\")\n",
    "        if isinstance(data, pd.DataFrame) or isinstance(data, pd.Series):\n",
    "            print(data.to_string())\n",
    "        else:\n",
    "            print(data)\n",
    "#########################################################################"
   ]
  },
  {
   "attachments": {},
   "cell_type": "markdown",
   "id": "0ae15b1d",
   "metadata": {},
   "source": [
    "### QP Weighting"
   ]
  },
  {
   "cell_type": "code",
   "execution_count": 47,
   "id": "07ce3ab9",
   "metadata": {},
   "outputs": [
    {
     "name": "stdout",
     "output_type": "stream",
     "text": [
      "\n",
      "Objective value: 0.0014216150000800518\n",
      "\n",
      "\n",
      "------------- Mean-Variance QP -------------\n",
      "\n",
      "Monthly Total Return:\n",
      "--------------------\n",
      "2023  10    0.052039\n",
      "      11    0.024312\n",
      "      12   -0.001437\n",
      "\n",
      "Monthly Sharpe Ratios:\n",
      "---------------------\n",
      "2023  10    12.500231\n",
      "      11     7.491622\n",
      "      12    -0.386931\n",
      "\n",
      "Monthly Max Drawdown:\n",
      "--------------------\n",
      "2023  10    0.002217\n",
      "      11    0.004819\n",
      "      12    0.011523\n",
      "\n",
      "Monthly Calmar Ratio:\n",
      "--------------------\n",
      "2023  10    22.884485\n",
      "      11     4.984986\n",
      "      12    -0.124788\n"
     ]
    }
   ],
   "source": [
    "daily_rets_train = daily_rets_train.fillna(0)\n",
    "q = daily_rets_train.mean().values\n",
    "q = daily_rets_train.ewm(span=20).mean().iloc[-1].values\n",
    "C = daily_rets_train.cov().values\n",
    "\n",
    "# ------- Randomly selected parameters\n",
    "k = 600 # tune this parameter (currently set at random) - it's called the risk aversion parameter\n",
    "min_weight_threshhold = 0.0000\n",
    "solution, obj_value = solve_QP(q, C, k, min_weight_threshhold)\n",
    "rounded_solution = np.where(np.abs(solution) < 1.0e-10, 0.0, np.round(solution, decimals=5))\n",
    "\n",
    "# print(\"\\nOptimal solution:\\n\", rounded_solution)\n",
    "print(\"\\nObjective value:\", obj_value)\n",
    "\n",
    "\n",
    "# use test set\n",
    "weights = rounded_solution\n",
    "weighted_daily_lrets_df = np.log(daily_rets_test*weights+1)\n",
    "portfolio_lrets = weighted_daily_lrets_df.sum(axis=1)\n",
    "\n",
    "pf_perf = monthly_eval(portfolio_lrets)\n",
    "print(\"\\n\\n------------- Mean-Variance QP -------------\")\n",
    "print_eval_results(pf_perf)"
   ]
  },
  {
   "attachments": {},
   "cell_type": "markdown",
   "id": "2e1c7c47",
   "metadata": {},
   "source": [
    "# CVaR Weighting"
   ]
  },
  {
   "cell_type": "code",
   "execution_count": 50,
   "id": "1c1f1daa",
   "metadata": {},
   "outputs": [
    {
     "ename": "NameError",
     "evalue": "name 'cp' is not defined",
     "output_type": "error",
     "traceback": [
      "\u001b[0;31m---------------------------------------------------------------------------\u001b[0m",
      "\u001b[0;31mNameError\u001b[0m                                 Traceback (most recent call last)",
      "Cell \u001b[0;32mIn[50], line 2\u001b[0m\n\u001b[1;32m      1\u001b[0m \u001b[39m# Using training set\u001b[39;00m\n\u001b[0;32m----> 2\u001b[0m optimal_weights \u001b[39m=\u001b[39m optimize_portfolio_cvar(daily_rets_train, min_weight_threshhold \u001b[39m=\u001b[39;49m \u001b[39m0.01\u001b[39;49m, alpha \u001b[39m=\u001b[39;49m \u001b[39m0.80\u001b[39;49m)\n\u001b[1;32m      4\u001b[0m \u001b[39m# Using testing set\u001b[39;00m\n\u001b[1;32m      5\u001b[0m weighted_daily_lrets_df \u001b[39m=\u001b[39m np\u001b[39m.\u001b[39mlog(daily_rets_test\u001b[39m*\u001b[39moptimal_weights\u001b[39m+\u001b[39m\u001b[39m1\u001b[39m)\n",
      "Cell \u001b[0;32mIn[46], line 39\u001b[0m, in \u001b[0;36moptimize_portfolio_cvar\u001b[0;34m(daily_rets_df, min_weight_threshhold, alpha)\u001b[0m\n\u001b[1;32m     36\u001b[0m cost \u001b[39m=\u001b[39m \u001b[39m-\u001b[39mdaily_rets_df\u001b[39m.\u001b[39mvalues \n\u001b[1;32m     38\u001b[0m \u001b[39m# Portfolio weights\u001b[39;00m\n\u001b[0;32m---> 39\u001b[0m weights \u001b[39m=\u001b[39m cp\u001b[39m.\u001b[39mVariable(n_assets)\n\u001b[1;32m     41\u001b[0m \u001b[39m# VaR (value-at-risk) as an auxiliary variable\u001b[39;00m\n\u001b[1;32m     42\u001b[0m VaR \u001b[39m=\u001b[39m cp\u001b[39m.\u001b[39mVariable()\n",
      "\u001b[0;31mNameError\u001b[0m: name 'cp' is not defined"
     ]
    }
   ],
   "source": [
    "# Using training set\n",
    "optimal_weights = optimize_portfolio_cvar(daily_rets_train, min_weight_threshhold = 0.01, alpha = 0.80)\n",
    "\n",
    "# Using testing set\n",
    "weighted_daily_lrets_df = np.log(daily_rets_test*optimal_weights+1)\n",
    "portfolio_lrets = weighted_daily_lrets_df.sum(axis=1)\n",
    "\n",
    "\n",
    "pf_perf = monthly_eval(portfolio_lrets)\n",
    "print(\"\\n\\n------------- CVaR -------------\")\n",
    "print_eval_results(pf_perf)"
   ]
  },
  {
   "cell_type": "code",
   "execution_count": 51,
   "id": "d6d87a26",
   "metadata": {},
   "outputs": [
    {
     "name": "stdout",
     "output_type": "stream",
     "text": [
      "\n",
      "\n",
      "------------- Equal Weights -------------\n",
      "\n",
      "Monthly Total Return:\n",
      "--------------------\n",
      "2023  10    0.011618\n",
      "      11    0.012623\n",
      "      12    0.002033\n",
      "\n",
      "Monthly Sharpe Ratios:\n",
      "---------------------\n",
      "2023  10    8.460178\n",
      "      11    9.502156\n",
      "      12    0.967175\n",
      "\n",
      "Monthly Max Drawdown:\n",
      "--------------------\n",
      "2023  10    0.002915\n",
      "      11    0.001552\n",
      "      12    0.007844\n",
      "\n",
      "Monthly Calmar Ratio:\n",
      "--------------------\n",
      "2023  10    3.963317\n",
      "      11    8.082230\n",
      "      12    0.258908\n"
     ]
    }
   ],
   "source": [
    "weights = 0.01\n",
    "weighted_daily_lrets_df = np.log(daily_rets_test*weights + 1)\n",
    "portfolio_lrets = weighted_daily_lrets_df.sum(axis=1)\n",
    "\n",
    "pf_perf = monthly_eval(portfolio_lrets)\n",
    "print(\"\\n\\n------------- Equal Weights -------------\")\n",
    "print_eval_results(pf_perf)"
   ]
  },
  {
   "cell_type": "code",
   "execution_count": null,
   "id": "606440a7",
   "metadata": {},
   "outputs": [],
   "source": []
  }
 ],
 "metadata": {
  "kernelspec": {
   "display_name": "Python 3 (ipykernel)",
   "language": "python",
   "name": "python3"
  },
  "language_info": {
   "codemirror_mode": {
    "name": "ipython",
    "version": 3
   },
   "file_extension": ".py",
   "mimetype": "text/x-python",
   "name": "python",
   "nbconvert_exporter": "python",
   "pygments_lexer": "ipython3",
   "version": "3.8.12"
  }
 },
 "nbformat": 4,
 "nbformat_minor": 5
}
